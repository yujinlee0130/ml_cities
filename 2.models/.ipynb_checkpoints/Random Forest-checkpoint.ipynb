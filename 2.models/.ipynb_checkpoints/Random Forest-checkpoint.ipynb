{
 "cells": [
  {
   "cell_type": "code",
   "execution_count": 5,
   "id": "2f305243",
   "metadata": {},
   "outputs": [],
   "source": [
    "import pandas as pd\n",
    "import numpy as np\n",
    "df = pd.read_csv(\"./MLC_SP23/clean_data/merged_data_v3.csv\", low_memory=False, index_col=[0])"
   ]
  },
  {
   "cell_type": "code",
   "execution_count": 6,
   "id": "73644190",
   "metadata": {},
   "outputs": [
    {
     "data": {
      "text/html": [
       "<div>\n",
       "<style scoped>\n",
       "    .dataframe tbody tr th:only-of-type {\n",
       "        vertical-align: middle;\n",
       "    }\n",
       "\n",
       "    .dataframe tbody tr th {\n",
       "        vertical-align: top;\n",
       "    }\n",
       "\n",
       "    .dataframe thead th {\n",
       "        text-align: right;\n",
       "    }\n",
       "</style>\n",
       "<table border=\"1\" class=\"dataframe\">\n",
       "  <thead>\n",
       "    <tr style=\"text-align: right;\">\n",
       "      <th></th>\n",
       "      <th>bbl</th>\n",
       "      <th>total_units_19</th>\n",
       "      <th>year_built</th>\n",
       "      <th>ejectment_count</th>\n",
       "      <th>possession_count</th>\n",
       "      <th>eviction_count</th>\n",
       "      <th>aleration_count</th>\n",
       "      <th>altered_lessthan5yrs</th>\n",
       "      <th>altered_morethan5yrs</th>\n",
       "      <th>classanet_avg</th>\n",
       "      <th>...</th>\n",
       "      <th>boro_3</th>\n",
       "      <th>boro_4</th>\n",
       "      <th>boro_5</th>\n",
       "      <th>rs_share_diff_new</th>\n",
       "      <th>hpd_call_2017_19</th>\n",
       "      <th>hh_inc_avg_19_log1</th>\n",
       "      <th>pop_race_asian_pct_19_log1</th>\n",
       "      <th>pop_race_black_pct_19_log1</th>\n",
       "      <th>pop16_unemp_pct_19_log1</th>\n",
       "      <th>pop_mobile1_diff_state_pct_19_log1</th>\n",
       "    </tr>\n",
       "  </thead>\n",
       "  <tbody>\n",
       "    <tr>\n",
       "      <th>0</th>\n",
       "      <td>1000780047</td>\n",
       "      <td>483</td>\n",
       "      <td>2016</td>\n",
       "      <td>0.0</td>\n",
       "      <td>0.0</td>\n",
       "      <td>0.0</td>\n",
       "      <td>0.0</td>\n",
       "      <td>0.0</td>\n",
       "      <td>0.0</td>\n",
       "      <td>0.0</td>\n",
       "      <td>...</td>\n",
       "      <td>0</td>\n",
       "      <td>0</td>\n",
       "      <td>0</td>\n",
       "      <td>0.0</td>\n",
       "      <td>4.0</td>\n",
       "      <td>12.276639</td>\n",
       "      <td>0.150551</td>\n",
       "      <td>0.018246</td>\n",
       "      <td>0.035008</td>\n",
       "      <td>0.074674</td>\n",
       "    </tr>\n",
       "    <tr>\n",
       "      <th>1</th>\n",
       "      <td>1001350019</td>\n",
       "      <td>4</td>\n",
       "      <td>1915</td>\n",
       "      <td>0.0</td>\n",
       "      <td>0.0</td>\n",
       "      <td>0.0</td>\n",
       "      <td>0.0</td>\n",
       "      <td>0.0</td>\n",
       "      <td>0.0</td>\n",
       "      <td>0.0</td>\n",
       "      <td>...</td>\n",
       "      <td>0</td>\n",
       "      <td>0</td>\n",
       "      <td>0</td>\n",
       "      <td>0.0</td>\n",
       "      <td>0.0</td>\n",
       "      <td>12.897523</td>\n",
       "      <td>0.096864</td>\n",
       "      <td>0.055298</td>\n",
       "      <td>0.002253</td>\n",
       "      <td>0.014341</td>\n",
       "    </tr>\n",
       "    <tr>\n",
       "      <th>2</th>\n",
       "      <td>1001620013</td>\n",
       "      <td>20</td>\n",
       "      <td>1915</td>\n",
       "      <td>0.0</td>\n",
       "      <td>0.0</td>\n",
       "      <td>0.0</td>\n",
       "      <td>0.0</td>\n",
       "      <td>0.0</td>\n",
       "      <td>0.0</td>\n",
       "      <td>0.0</td>\n",
       "      <td>...</td>\n",
       "      <td>0</td>\n",
       "      <td>0</td>\n",
       "      <td>0</td>\n",
       "      <td>1.0</td>\n",
       "      <td>2.0</td>\n",
       "      <td>10.973689</td>\n",
       "      <td>0.461379</td>\n",
       "      <td>0.096629</td>\n",
       "      <td>0.037102</td>\n",
       "      <td>0.008935</td>\n",
       "    </tr>\n",
       "    <tr>\n",
       "      <th>3</th>\n",
       "      <td>1001630024</td>\n",
       "      <td>16</td>\n",
       "      <td>1915</td>\n",
       "      <td>0.0</td>\n",
       "      <td>0.0</td>\n",
       "      <td>0.0</td>\n",
       "      <td>0.0</td>\n",
       "      <td>0.0</td>\n",
       "      <td>0.0</td>\n",
       "      <td>0.0</td>\n",
       "      <td>...</td>\n",
       "      <td>0</td>\n",
       "      <td>0</td>\n",
       "      <td>0</td>\n",
       "      <td>0.0</td>\n",
       "      <td>1.0</td>\n",
       "      <td>10.973689</td>\n",
       "      <td>0.461379</td>\n",
       "      <td>0.096629</td>\n",
       "      <td>0.037102</td>\n",
       "      <td>0.008935</td>\n",
       "    </tr>\n",
       "    <tr>\n",
       "      <th>4</th>\n",
       "      <td>1001630033</td>\n",
       "      <td>11</td>\n",
       "      <td>1915</td>\n",
       "      <td>0.0</td>\n",
       "      <td>0.0</td>\n",
       "      <td>0.0</td>\n",
       "      <td>1.0</td>\n",
       "      <td>0.0</td>\n",
       "      <td>1.0</td>\n",
       "      <td>0.0</td>\n",
       "      <td>...</td>\n",
       "      <td>0</td>\n",
       "      <td>0</td>\n",
       "      <td>0</td>\n",
       "      <td>0.0</td>\n",
       "      <td>0.0</td>\n",
       "      <td>10.973689</td>\n",
       "      <td>0.461379</td>\n",
       "      <td>0.096629</td>\n",
       "      <td>0.037102</td>\n",
       "      <td>0.008935</td>\n",
       "    </tr>\n",
       "  </tbody>\n",
       "</table>\n",
       "<p>5 rows × 75 columns</p>\n",
       "</div>"
      ],
      "text/plain": [
       "          bbl  total_units_19  year_built  ejectment_count  possession_count  \\\n",
       "0  1000780047             483        2016              0.0               0.0   \n",
       "1  1001350019               4        1915              0.0               0.0   \n",
       "2  1001620013              20        1915              0.0               0.0   \n",
       "3  1001630024              16        1915              0.0               0.0   \n",
       "4  1001630033              11        1915              0.0               0.0   \n",
       "\n",
       "   eviction_count  aleration_count  altered_lessthan5yrs  \\\n",
       "0             0.0              0.0                   0.0   \n",
       "1             0.0              0.0                   0.0   \n",
       "2             0.0              0.0                   0.0   \n",
       "3             0.0              0.0                   0.0   \n",
       "4             0.0              1.0                   0.0   \n",
       "\n",
       "   altered_morethan5yrs  classanet_avg  ...  boro_3  boro_4  boro_5  \\\n",
       "0                   0.0            0.0  ...       0       0       0   \n",
       "1                   0.0            0.0  ...       0       0       0   \n",
       "2                   0.0            0.0  ...       0       0       0   \n",
       "3                   0.0            0.0  ...       0       0       0   \n",
       "4                   1.0            0.0  ...       0       0       0   \n",
       "\n",
       "   rs_share_diff_new  hpd_call_2017_19  hh_inc_avg_19_log1  \\\n",
       "0                0.0               4.0           12.276639   \n",
       "1                0.0               0.0           12.897523   \n",
       "2                1.0               2.0           10.973689   \n",
       "3                0.0               1.0           10.973689   \n",
       "4                0.0               0.0           10.973689   \n",
       "\n",
       "   pop_race_asian_pct_19_log1  pop_race_black_pct_19_log1  \\\n",
       "0                    0.150551                    0.018246   \n",
       "1                    0.096864                    0.055298   \n",
       "2                    0.461379                    0.096629   \n",
       "3                    0.461379                    0.096629   \n",
       "4                    0.461379                    0.096629   \n",
       "\n",
       "   pop16_unemp_pct_19_log1  pop_mobile1_diff_state_pct_19_log1  \n",
       "0                 0.035008                            0.074674  \n",
       "1                 0.002253                            0.014341  \n",
       "2                 0.037102                            0.008935  \n",
       "3                 0.037102                            0.008935  \n",
       "4                 0.037102                            0.008935  \n",
       "\n",
       "[5 rows x 75 columns]"
      ]
     },
     "execution_count": 6,
     "metadata": {},
     "output_type": "execute_result"
    }
   ],
   "source": [
    "df.head()"
   ]
  },
  {
   "cell_type": "markdown",
   "id": "8c3d8a6f",
   "metadata": {},
   "source": [
    "# Train-test split"
   ]
  },
  {
   "cell_type": "code",
   "execution_count": 59,
   "id": "9e831ec0",
   "metadata": {},
   "outputs": [],
   "source": [
    "X = df.drop(['rs_share_diff_new', 'bbl', 'total_units_19'], axis = 1)\n",
    "y = df['rs_share_diff_new']"
   ]
  },
  {
   "cell_type": "code",
   "execution_count": 60,
   "id": "91d0aba0",
   "metadata": {},
   "outputs": [],
   "source": [
    "from sklearn.model_selection import train_test_split\n",
    "X_train, X_test, y_train, y_test = train_test_split(X, y, test_size=0.25, random_state=1)"
   ]
  },
  {
   "cell_type": "code",
   "execution_count": 61,
   "id": "24fe0e94",
   "metadata": {},
   "outputs": [
    {
     "data": {
      "text/plain": [
       "0.6592301112061592"
      ]
     },
     "execution_count": 61,
     "metadata": {},
     "output_type": "execute_result"
    }
   ],
   "source": [
    "# Baseline accuracy\n",
    "1 - y_train.mean()"
   ]
  },
  {
   "cell_type": "markdown",
   "id": "c59659e9",
   "metadata": {},
   "source": [
    "# Random Forest"
   ]
  },
  {
   "cell_type": "code",
   "execution_count": 62,
   "id": "ed28efac",
   "metadata": {},
   "outputs": [
    {
     "name": "stdout",
     "output_type": "stream",
     "text": [
      "Running grid search took 686.8269550800323 seconds\n",
      "\n",
      "{'max_depth': 10, 'n_estimators': 450}\n",
      "0.74572519969101\n"
     ]
    }
   ],
   "source": [
    "# Fit model\n",
    "from sklearn.ensemble import RandomForestClassifier\n",
    "from sklearn.model_selection import GridSearchCV\n",
    "import time\n",
    "\n",
    "scoring = {'Accuracy':'accuracy',\n",
    "           'F1 Score':'f1',\n",
    "           'Precision':'precision',\n",
    "           'Recall':'recall',\n",
    "           'AUC':'roc_auc'\n",
    "}\n",
    "\n",
    "param_grid = {'max_depth':[6, 8, 10],\n",
    "              'n_estimators': [350, 400, 450, 500]\n",
    "}\n",
    "\n",
    "start = time.time()\n",
    "\n",
    "rf = RandomForestClassifier(random_state = 1)\n",
    "gr = GridSearchCV(rf, param_grid = param_grid, scoring = scoring, refit = \"AUC\", cv = 4)\n",
    "fit = gr.fit(X_train, y_train)\n",
    "\n",
    "end = time.time()\n",
    "\n",
    "print(\"Running grid search took\", end - start, \"seconds\") # time in seconds to run grid search\n",
    "print()\n",
    "print(fit.best_params_)\n",
    "print(fit.best_score_)"
   ]
  },
  {
   "cell_type": "code",
   "execution_count": 63,
   "id": "3bcb0230",
   "metadata": {},
   "outputs": [
    {
     "name": "stdout",
     "output_type": "stream",
     "text": [
      "Best model AUC: 0.74572519969101\n",
      "Best model accuracy: 0.7482635833902377\n",
      "Best model F1 score: 0.5244243867574745\n",
      "Best model precision: 0.7361471203192674\n",
      "Best model recall: 0.40736937303250764\n"
     ]
    }
   ],
   "source": [
    "# get all cv metrics for best model\n",
    "\n",
    "best_params_index = fit.cv_results_['rank_test_AUC'][0] - 1\n",
    "print(\"Best model AUC:\", fit.cv_results_['mean_test_AUC'][best_params_index])\n",
    "print(\"Best model accuracy:\", fit.cv_results_['mean_test_Accuracy'][best_params_index])\n",
    "print(\"Best model F1 score:\", fit.cv_results_['mean_test_F1 Score'][best_params_index])\n",
    "print(\"Best model precision:\", fit.cv_results_['mean_test_Precision'][best_params_index])\n",
    "print(\"Best model recall:\", fit.cv_results_['mean_test_Recall'][best_params_index])"
   ]
  },
  {
   "cell_type": "code",
   "execution_count": 64,
   "id": "55f447c9",
   "metadata": {},
   "outputs": [
    {
     "name": "stdout",
     "output_type": "stream",
     "text": [
      "Out of sample AUC is: 0.6607530670859816\n",
      "Out of sample accuracy is: 0.7484089509340998\n",
      "Out of sample F1 score is: 0.5130141068944963\n",
      "Out of sample precision is: 0.7252808988764045\n",
      "Out of sample recall is: 0.3968644328312327\n"
     ]
    }
   ],
   "source": [
    "# score model on test set\n",
    "from sklearn import metrics\n",
    "\n",
    "y_hat_test = fit.predict(X_test)\n",
    "auc = metrics.roc_auc_score(y_test, y_hat_test)\n",
    "acc = metrics.accuracy_score(y_test, y_hat_test)\n",
    "f1 = metrics.f1_score(y_test, y_hat_test)\n",
    "prec = metrics.precision_score(y_test, y_hat_test)\n",
    "rec = metrics.recall_score(y_test, y_hat_test)\n",
    "\n",
    "print(\"Out of sample AUC is:\", auc)\n",
    "print(\"Out of sample accuracy is:\", acc)\n",
    "print(\"Out of sample F1 score is:\", f1)\n",
    "print(\"Out of sample precision is:\", prec)\n",
    "print(\"Out of sample recall is:\", rec)"
   ]
  },
  {
   "cell_type": "code",
   "execution_count": 65,
   "id": "0c5b4b4e",
   "metadata": {},
   "outputs": [
    {
     "data": {
      "image/png": "[encoded data removed]",
      "text/plain": [
       "<Figure size 360x720 with 1 Axes>"
      ]
     },
     "metadata": {
      "needs_background": "light"
     },
     "output_type": "display_data"
    }
   ],
   "source": [
    "from matplotlib import pyplot as plt\n",
    "from matplotlib.pyplot import cm\n",
    "\n",
    "plt.figure(figsize=(5,10))\n",
    "importances = pd.Series(fit.best_estimator_.feature_importances_, X_train.columns)\n",
    "importances.sort_values().tail(10).plot.barh(color = '#6a79f7')\n",
    "plt.title('Feature Importance in the Random Forest Model',fontsize=15)\n",
    "plt.xlabel('Feature Importance',fontsize = 15)\n",
    "plt.ylabel('Features',fontsize = 15)\n",
    "plt.show()"
   ]
  },
  {
   "cell_type": "markdown",
   "id": "94165795",
   "metadata": {},
   "source": [
    "# Parameter tuning history"
   ]
  },
  {
   "cell_type": "code",
   "execution_count": null,
   "id": "c8e6d5ce",
   "metadata": {},
   "outputs": [],
   "source": [
    "# Initial run: max_depth = 6, n_estimators = 100\n",
    "# 90 seconds\n",
    "\n",
    "#Out of sample AUC is: 0.7509668635947888\n",
    "#Out of sample accuracy is: 0.8254978443851365\n",
    "#Out of sample F1 score is: 0.668357393679282\n",
    "#Out of sample precision is: 0.9145755472504005\n",
    "#Out of sample recall is: 0.5265908392253305"
   ]
  },
  {
   "cell_type": "code",
   "execution_count": 45,
   "id": "86a0786a",
   "metadata": {},
   "outputs": [],
   "source": [
    "# Slight improvement: max_depth = 6, n_estimators = 400\n",
    "# 248 seconds\n",
    "\n",
    "#Out of sample AUC is: 0.7534245212534708\n",
    "#Out of sample accuracy is: 0.8267296243071238\n",
    "#Out of sample F1 score is: 0.6724873884361661\n",
    "#Out of sample precision is: 0.911625460284061\n",
    "#Out of sample recall is: 0.532739010144482"
   ]
  },
  {
   "cell_type": "code",
   "execution_count": null,
   "id": "6e9ec8a8",
   "metadata": {},
   "outputs": [],
   "source": [
    "# Another slight improvement: max_depth = 10, n_estimators = 350\n",
    "# 432 seconds\n",
    "\n",
    "#Out of sample AUC is: 0.7572647120144724\n",
    "#Out of sample accuracy is: 0.828679942516937\n",
    "#Out of sample F1 score is: 0.6788531845295364\n",
    "#Out of sample precision is: 0.9074074074074074\n",
    "#Out of sample recall is: 0.5422686750691669"
   ]
  },
  {
   "cell_type": "code",
   "execution_count": null,
   "id": "1cc5dc8a",
   "metadata": {},
   "outputs": [],
   "source": [
    "# drop total units\n",
    "\n",
    "#Out of sample AUC is: 0.6607530670859816\n",
    "#Out of sample accuracy is: 0.7484089509340998\n",
    "#Out of sample F1 score is: 0.5130141068944963\n",
    "#Out of sample precision is: 0.7252808988764045\n",
    "#Out of sample recall is: 0.3968644328312327"
   ]
  }
 ],
 "metadata": {
  "kernelspec": {
   "display_name": "Python 3 (ipykernel)",
   "language": "python",
   "name": "python3"
  },
  "language_info": {
   "codemirror_mode": {
    "name": "ipython",
    "version": 3
   },
   "file_extension": ".py",
   "mimetype": "text/x-python",
   "name": "python",
   "nbconvert_exporter": "python",
   "pygments_lexer": "ipython3",
   "version": "3.9.12"
  }
 },
 "nbformat": 4,
 "nbformat_minor": 5
}
