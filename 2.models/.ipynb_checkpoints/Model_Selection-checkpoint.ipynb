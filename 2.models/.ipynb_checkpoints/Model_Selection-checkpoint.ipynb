{
 "cells": [
  {
   "cell_type": "code",
   "execution_count": 1,
   "id": "572340ff",
   "metadata": {},
   "outputs": [],
   "source": [
    "import pandas as pd\n",
    "import numpy as np\n",
    "df = pd.read_csv(\"./MLC_SP23/clean_data/merged_data.csv\", low_memory=False, index_col=[0])"
   ]
  },
  {
   "cell_type": "markdown",
   "id": "cf836e53",
   "metadata": {},
   "source": [
    "## Train - Test Split"
   ]
  },
  {
   "cell_type": "code",
   "execution_count": 2,
   "id": "92f0e880",
   "metadata": {},
   "outputs": [
    {
     "data": {
      "text/html": [
       "<div>\n",
       "<style scoped>\n",
       "    .dataframe tbody tr th:only-of-type {\n",
       "        vertical-align: middle;\n",
       "    }\n",
       "\n",
       "    .dataframe tbody tr th {\n",
       "        vertical-align: top;\n",
       "    }\n",
       "\n",
       "    .dataframe thead th {\n",
       "        text-align: right;\n",
       "    }\n",
       "</style>\n",
       "<table border=\"1\" class=\"dataframe\">\n",
       "  <thead>\n",
       "    <tr style=\"text-align: right;\">\n",
       "      <th></th>\n",
       "      <th>bbl</th>\n",
       "      <th>rs_share_diff</th>\n",
       "      <th>total_units_19</th>\n",
       "      <th>boro</th>\n",
       "      <th>cd_x</th>\n",
       "      <th>ct_10</th>\n",
       "      <th>year_built</th>\n",
       "      <th>ejectment_count</th>\n",
       "      <th>possession_count</th>\n",
       "      <th>eviction_count</th>\n",
       "      <th>...</th>\n",
       "      <th>unit_occ_rent_nochild_pct_19</th>\n",
       "      <th>unit_rent_cash_pct_19</th>\n",
       "      <th>unit_rent_cash_low_pct_19</th>\n",
       "      <th>unit_rent_cash_moderate_pct_19</th>\n",
       "      <th>unit_rent_cash_mod_high_pct_19</th>\n",
       "      <th>unit_rent_cash_high_pct_19</th>\n",
       "      <th>rent_burden_pct_19</th>\n",
       "      <th>rent_burden_mod_pct_19</th>\n",
       "      <th>rent_burden_sev_pct_19</th>\n",
       "      <th>pop_race_div_idx_19</th>\n",
       "    </tr>\n",
       "  </thead>\n",
       "  <tbody>\n",
       "    <tr>\n",
       "      <th>0</th>\n",
       "      <td>1000780047</td>\n",
       "      <td>0.0000</td>\n",
       "      <td>483</td>\n",
       "      <td>1</td>\n",
       "      <td>101</td>\n",
       "      <td>1502</td>\n",
       "      <td>2016</td>\n",
       "      <td>0.0</td>\n",
       "      <td>0.0</td>\n",
       "      <td>0.0</td>\n",
       "      <td>...</td>\n",
       "      <td>0.172615</td>\n",
       "      <td>0.986616</td>\n",
       "      <td>0.019478</td>\n",
       "      <td>0.012522</td>\n",
       "      <td>0.020522</td>\n",
       "      <td>0.083478</td>\n",
       "      <td>0.326156</td>\n",
       "      <td>0.166961</td>\n",
       "      <td>0.159195</td>\n",
       "      <td>0.450691</td>\n",
       "    </tr>\n",
       "    <tr>\n",
       "      <th>1</th>\n",
       "      <td>1001350019</td>\n",
       "      <td>0.0000</td>\n",
       "      <td>4</td>\n",
       "      <td>1</td>\n",
       "      <td>101</td>\n",
       "      <td>21</td>\n",
       "      <td>1915</td>\n",
       "      <td>0.0</td>\n",
       "      <td>0.0</td>\n",
       "      <td>0.0</td>\n",
       "      <td>...</td>\n",
       "      <td>0.277924</td>\n",
       "      <td>0.969777</td>\n",
       "      <td>0.190379</td>\n",
       "      <td>0.031165</td>\n",
       "      <td>0.004743</td>\n",
       "      <td>0.000000</td>\n",
       "      <td>0.241661</td>\n",
       "      <td>0.149762</td>\n",
       "      <td>0.091899</td>\n",
       "      <td>0.457072</td>\n",
       "    </tr>\n",
       "    <tr>\n",
       "      <th>2</th>\n",
       "      <td>1001620013</td>\n",
       "      <td>-0.0500</td>\n",
       "      <td>20</td>\n",
       "      <td>1</td>\n",
       "      <td>103</td>\n",
       "      <td>29</td>\n",
       "      <td>1915</td>\n",
       "      <td>0.0</td>\n",
       "      <td>0.0</td>\n",
       "      <td>0.0</td>\n",
       "      <td>...</td>\n",
       "      <td>0.359562</td>\n",
       "      <td>0.967131</td>\n",
       "      <td>0.405767</td>\n",
       "      <td>0.342945</td>\n",
       "      <td>0.079300</td>\n",
       "      <td>0.118950</td>\n",
       "      <td>0.701854</td>\n",
       "      <td>0.336766</td>\n",
       "      <td>0.365088</td>\n",
       "      <td>0.612518</td>\n",
       "    </tr>\n",
       "    <tr>\n",
       "      <th>3</th>\n",
       "      <td>1001630024</td>\n",
       "      <td>0.1875</td>\n",
       "      <td>16</td>\n",
       "      <td>1</td>\n",
       "      <td>103</td>\n",
       "      <td>29</td>\n",
       "      <td>1915</td>\n",
       "      <td>0.0</td>\n",
       "      <td>0.0</td>\n",
       "      <td>0.0</td>\n",
       "      <td>...</td>\n",
       "      <td>0.359562</td>\n",
       "      <td>0.967131</td>\n",
       "      <td>0.405767</td>\n",
       "      <td>0.342945</td>\n",
       "      <td>0.079300</td>\n",
       "      <td>0.118950</td>\n",
       "      <td>0.701854</td>\n",
       "      <td>0.336766</td>\n",
       "      <td>0.365088</td>\n",
       "      <td>0.612518</td>\n",
       "    </tr>\n",
       "    <tr>\n",
       "      <th>4</th>\n",
       "      <td>1001630033</td>\n",
       "      <td>0.0000</td>\n",
       "      <td>11</td>\n",
       "      <td>1</td>\n",
       "      <td>103</td>\n",
       "      <td>29</td>\n",
       "      <td>1915</td>\n",
       "      <td>0.0</td>\n",
       "      <td>0.0</td>\n",
       "      <td>0.0</td>\n",
       "      <td>...</td>\n",
       "      <td>0.359562</td>\n",
       "      <td>0.967131</td>\n",
       "      <td>0.405767</td>\n",
       "      <td>0.342945</td>\n",
       "      <td>0.079300</td>\n",
       "      <td>0.118950</td>\n",
       "      <td>0.701854</td>\n",
       "      <td>0.336766</td>\n",
       "      <td>0.365088</td>\n",
       "      <td>0.612518</td>\n",
       "    </tr>\n",
       "  </tbody>\n",
       "</table>\n",
       "<p>5 rows × 113 columns</p>\n",
       "</div>"
      ],
      "text/plain": [
       "          bbl  rs_share_diff  total_units_19  boro  cd_x  ct_10  year_built  \\\n",
       "0  1000780047         0.0000             483     1   101   1502        2016   \n",
       "1  1001350019         0.0000               4     1   101     21        1915   \n",
       "2  1001620013        -0.0500              20     1   103     29        1915   \n",
       "3  1001630024         0.1875              16     1   103     29        1915   \n",
       "4  1001630033         0.0000              11     1   103     29        1915   \n",
       "\n",
       "   ejectment_count  possession_count  eviction_count  ...  \\\n",
       "0              0.0               0.0             0.0  ...   \n",
       "1              0.0               0.0             0.0  ...   \n",
       "2              0.0               0.0             0.0  ...   \n",
       "3              0.0               0.0             0.0  ...   \n",
       "4              0.0               0.0             0.0  ...   \n",
       "\n",
       "   unit_occ_rent_nochild_pct_19  unit_rent_cash_pct_19  \\\n",
       "0                      0.172615               0.986616   \n",
       "1                      0.277924               0.969777   \n",
       "2                      0.359562               0.967131   \n",
       "3                      0.359562               0.967131   \n",
       "4                      0.359562               0.967131   \n",
       "\n",
       "   unit_rent_cash_low_pct_19  unit_rent_cash_moderate_pct_19  \\\n",
       "0                   0.019478                        0.012522   \n",
       "1                   0.190379                        0.031165   \n",
       "2                   0.405767                        0.342945   \n",
       "3                   0.405767                        0.342945   \n",
       "4                   0.405767                        0.342945   \n",
       "\n",
       "   unit_rent_cash_mod_high_pct_19  unit_rent_cash_high_pct_19  \\\n",
       "0                        0.020522                    0.083478   \n",
       "1                        0.004743                    0.000000   \n",
       "2                        0.079300                    0.118950   \n",
       "3                        0.079300                    0.118950   \n",
       "4                        0.079300                    0.118950   \n",
       "\n",
       "   rent_burden_pct_19  rent_burden_mod_pct_19  rent_burden_sev_pct_19  \\\n",
       "0            0.326156                0.166961                0.159195   \n",
       "1            0.241661                0.149762                0.091899   \n",
       "2            0.701854                0.336766                0.365088   \n",
       "3            0.701854                0.336766                0.365088   \n",
       "4            0.701854                0.336766                0.365088   \n",
       "\n",
       "   pop_race_div_idx_19  \n",
       "0             0.450691  \n",
       "1             0.457072  \n",
       "2             0.612518  \n",
       "3             0.612518  \n",
       "4             0.612518  \n",
       "\n",
       "[5 rows x 113 columns]"
      ]
     },
     "execution_count": 2,
     "metadata": {},
     "output_type": "execute_result"
    }
   ],
   "source": [
    "df.head()"
   ]
  },
  {
   "cell_type": "code",
   "execution_count": 1,
   "id": "e1b4cdff",
   "metadata": {},
   "outputs": [
    {
     "ename": "NameError",
     "evalue": "name 'df' is not defined",
     "output_type": "error",
     "traceback": [
      "\u001b[0;31m---------------------------------------------------------------------------\u001b[0m",
      "\u001b[0;31mNameError\u001b[0m                                 Traceback (most recent call last)",
      "Input \u001b[0;32mIn [1]\u001b[0m, in \u001b[0;36m<cell line: 1>\u001b[0;34m()\u001b[0m\n\u001b[0;32m----> 1\u001b[0m X \u001b[38;5;241m=\u001b[39m \u001b[43mdf\u001b[49m\u001b[38;5;241m.\u001b[39mdrop([\u001b[38;5;124m'\u001b[39m\u001b[38;5;124mrs_share_diff_new\u001b[39m\u001b[38;5;124m'\u001b[39m], axis \u001b[38;5;241m=\u001b[39m \u001b[38;5;241m1\u001b[39m)\n\u001b[1;32m      2\u001b[0m y \u001b[38;5;241m=\u001b[39m df[\u001b[38;5;124m'\u001b[39m\u001b[38;5;124mrs_share_diff_new\u001b[39m\u001b[38;5;124m'\u001b[39m]\n",
      "\u001b[0;31mNameError\u001b[0m: name 'df' is not defined"
     ]
    }
   ],
   "source": [
    "X = df.drop(['rs_share_diff'], axis = 1)\n",
    "y = df['rs_share_diff']"
   ]
  },
  {
   "cell_type": "code",
   "execution_count": null,
   "id": "c3357634",
   "metadata": {},
   "outputs": [],
   "source": [
    "from sklearn.model_selection import train_test_split\n",
    "X_train, X_test, y_train, y_test = train_test_split(X_scaled, y, test_size=0.25, random_state=1)"
   ]
  },
  {
   "cell_type": "markdown",
   "id": "aec2a8a6",
   "metadata": {},
   "source": [
    "## Model Selection and Validation - Draft"
   ]
  },
  {
   "cell_type": "markdown",
   "id": "5d709067",
   "metadata": {},
   "source": [
    "### Evaluation metric: mse? "
   ]
  },
  {
   "cell_type": "markdown",
   "id": "a86b0f8f",
   "metadata": {},
   "source": [
    "### 1. Gradient Boosting Regressor"
   ]
  },
  {
   "cell_type": "code",
   "execution_count": 34,
   "id": "8bbf0704",
   "metadata": {},
   "outputs": [
    {
     "name": "stdout",
     "output_type": "stream",
     "text": [
      "GradientBoostingRegressor(max_depth=4, n_estimators=200)\n"
     ]
    }
   ],
   "source": [
    "from sklearn.ensemble import GradientBoostingRegressor\n",
    "from sklearn.model_selection import GridSearchCV\n",
    "\n",
    "# Fit model\n",
    "\n",
    "gbr_params = {'n_estimators' : [100,200],\n",
    "            'max_depth'    : [4,8]\n",
    "             }\n",
    "\n",
    "model_gb = GradientBoostingRegressor()\n",
    "gr_gb = GridSearchCV(model_gb, param_grid = gbr_params, cv = 3)\n",
    "fit_gb = gr_gb.fit(X_train.iloc[:10000,:], y_train.iloc[:10000])\n",
    "print(fit_gb.best_estimator_)"
   ]
  },
  {
   "cell_type": "code",
   "execution_count": 35,
   "id": "42bd6c3f",
   "metadata": {},
   "outputs": [
    {
     "name": "stdout",
     "output_type": "stream",
     "text": [
      "0.06426962063207316\n"
     ]
    }
   ],
   "source": [
    "# Test set prediction\n",
    "\n",
    "from sklearn import metrics\n",
    "\n",
    "y_hat_gb_test = fit_gb.predict(X_test.iloc[:3333,:])\n",
    "mae_test_gb = metrics.mean_absolute_error(y_test.iloc[:3333], y_hat_gb_test)\n",
    "\n",
    "print(mae_test_gb)"
   ]
  },
  {
   "cell_type": "markdown",
   "id": "4a9e6cd5",
   "metadata": {},
   "source": [
    "### 2. Ridge Regression"
   ]
  },
  {
   "cell_type": "code",
   "execution_count": 36,
   "id": "a7789951",
   "metadata": {},
   "outputs": [
    {
     "name": "stdout",
     "output_type": "stream",
     "text": [
      "Ridge(alpha=1)\n"
     ]
    }
   ],
   "source": [
    "# Fit model\n",
    "\n",
    "from sklearn import linear_model\n",
    "\n",
    "ridge_params = {'alpha': [0.1, 1, 5, 10, 20]}\n",
    "\n",
    "model_ridge = linear_model.Ridge()\n",
    "gr_ridge = GridSearchCV(model_ridge, param_grid = ridge_params, cv = 3)\n",
    "fit_ridge = gr_ridge.fit(X_train.iloc[:10000,:], y_train.iloc[:10000])\n",
    "print(fit_ridge.best_estimator_)"
   ]
  },
  {
   "cell_type": "code",
   "execution_count": 37,
   "id": "77b7db62",
   "metadata": {},
   "outputs": [
    {
     "name": "stdout",
     "output_type": "stream",
     "text": [
      "0.08095043365687092\n"
     ]
    }
   ],
   "source": [
    "# Test set prediction\n",
    "\n",
    "y_hat_ridge_test = fit_ridge.predict(X_test.iloc[:3333,:])\n",
    "mae_test_ridge = metrics.mean_absolute_error(y_test.iloc[:3333], y_hat_ridge_test)\n",
    "print(mae_test_ridge)"
   ]
  },
  {
   "cell_type": "markdown",
   "id": "ba488210",
   "metadata": {},
   "source": [
    "### 3. Lasso Regression"
   ]
  },
  {
   "cell_type": "code",
   "execution_count": 38,
   "id": "a3d5849d",
   "metadata": {},
   "outputs": [
    {
     "name": "stdout",
     "output_type": "stream",
     "text": [
      "Lasso(alpha=0.1)\n"
     ]
    }
   ],
   "source": [
    "# Fit model\n",
    "\n",
    "lasso_params = {'alpha': [0.1, 1, 5, 10, 20]}\n",
    "\n",
    "model_lasso = linear_model.Lasso()\n",
    "gr_lasso = GridSearchCV(model_lasso, param_grid = ridge_params, cv = 3)\n",
    "fit_lasso = gr_lasso.fit(X_train.iloc[:10000,:], y_train.iloc[:10000])\n",
    "print(fit_lasso.best_estimator_)"
   ]
  },
  {
   "cell_type": "code",
   "execution_count": 39,
   "id": "e7d98126",
   "metadata": {},
   "outputs": [
    {
     "name": "stdout",
     "output_type": "stream",
     "text": [
      "0.15877362095340244\n"
     ]
    }
   ],
   "source": [
    "# Test set prediction\n",
    "\n",
    "y_hat_lasso_test = fit_lasso.predict(X_test.iloc[:3333,:])\n",
    "mae_test_lasso = metrics.mean_absolute_error(y_test.iloc[:3333], y_hat_lasso_test)\n",
    "print(mae_test_lasso)"
   ]
  },
  {
   "cell_type": "markdown",
   "id": "86e9ba08",
   "metadata": {},
   "source": [
    "### 4. Random Forest"
   ]
  },
  {
   "cell_type": "code",
   "execution_count": 40,
   "id": "7bc6bc9b",
   "metadata": {},
   "outputs": [
    {
     "name": "stdout",
     "output_type": "stream",
     "text": [
      "RandomForestRegressor(max_features=1.0)\n"
     ]
    }
   ],
   "source": [
    "# Fit model\n",
    "\n",
    "from sklearn.ensemble import RandomForestRegressor\n",
    "\n",
    "random_params = {'max_features':[1.0, 'sqrt'],\n",
    "                 'n_estimators': [50, 100]\n",
    "                }\n",
    "model_random = RandomForestRegressor()\n",
    "gr_random = GridSearchCV(model_random, param_grid = random_params, cv = 3)\n",
    "fit_random = gr_random.fit(X_train.iloc[:10000,:], y_train.iloc[:10000])\n",
    "print(fit_random.best_estimator_)"
   ]
  },
  {
   "cell_type": "code",
   "execution_count": 41,
   "id": "98ecc5c7",
   "metadata": {},
   "outputs": [
    {
     "name": "stdout",
     "output_type": "stream",
     "text": [
      "0.06908280288028804\n"
     ]
    }
   ],
   "source": [
    "# Test set prediction\n",
    "\n",
    "y_hat_random_test = fit_random.predict(X_test.iloc[:3333,:])\n",
    "mae_test_lasso = metrics.mean_absolute_error(y_test.iloc[:3333], y_hat_random_test)\n",
    "print(mae_test_lasso)"
   ]
  },
  {
   "cell_type": "code",
   "execution_count": null,
   "id": "6153b49f",
   "metadata": {},
   "outputs": [],
   "source": []
  },
  {
   "cell_type": "markdown",
   "id": "8d275905",
   "metadata": {},
   "source": [
    "## Feature Importance"
   ]
  },
  {
   "cell_type": "code",
   "execution_count": null,
   "id": "9144b737",
   "metadata": {},
   "outputs": [],
   "source": [
    "# Get Feature importance data using feature_importances_ attribute\n",
    "from matplotlib.pyplot import cm\n",
    "\n",
    "plt.figure(figsize=(5,10))\n",
    "importances = pd.Series(fit_gb.best_estimator_.feature_importances_, X_train.columns)\n",
    "importances.sort_values().tail(10).plot.barh(color = '#6a79f7')\n",
    "plt.title('Feature Importance in the Gradient Boosting Regressor Model',fontsize=15)\n",
    "plt.xlabel('Feature Importance',fontsize = 15)\n",
    "plt.ylabel('Features',fontsize = 15)\n",
    "plt.show()\n"
   ]
  }
 ],
 "metadata": {
  "kernelspec": {
   "display_name": "Python 3 (ipykernel)",
   "language": "python",
   "name": "python3"
  },
  "language_info": {
   "codemirror_mode": {
    "name": "ipython",
    "version": 3
   },
   "file_extension": ".py",
   "mimetype": "text/x-python",
   "name": "python",
   "nbconvert_exporter": "python",
   "pygments_lexer": "ipython3",
   "version": "3.9.12"
  }
 },
 "nbformat": 4,
 "nbformat_minor": 5
}
